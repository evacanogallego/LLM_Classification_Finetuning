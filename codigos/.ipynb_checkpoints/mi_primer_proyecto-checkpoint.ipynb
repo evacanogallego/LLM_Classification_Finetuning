{
 "cells": [
  {
   "cell_type": "markdown",
   "id": "19b0fce8-8a5d-4770-bbaa-136b7cf1f399",
   "metadata": {},
   "source": [
    "# Entrenamiento modelo LLM\n",
    "\n",
    "The competition dataset consists of user interactions from the ChatBot Arena. In each user interaction a judge provides one or more prompts to two different large language models, and then indicates which of the models gave the more satisfactory response. The goal of the competition is to predict the preferences of the judges and determine the likelihood that a given prompt/response pair is selected as the winner.\n",
    "\n",
    "Please note that this is a Code Competition. When your submission is scored, this example test data will be replaced with the full test set. There are 55K rows in the training data, and you can expect roughly 25,000 rows in the test set.\n",
    "\n",
    "## Files\n",
    "\n",
    "**train.csv**\n",
    "\n",
    "* id - A unique identifier for the row.\n",
    "* model_[a/b] - The identity of model_[a/b]. Included in train.csv but not test.csv.\n",
    "* prompt - The prompt that was given as an input (to both models).\n",
    "* response_[a/b] - The response from model_[a/b] to the given prompt.\n",
    "* winner_model_[a/b/tie] - Binary columns marking the judge's selection. The ground truth target column.\n",
    "\n",
    "**test.csv**\n",
    "\n",
    "* id\n",
    "* prompt\n",
    "* response_[a/b]\n",
    "\n",
    "**sample_submission.csv**\n",
    "A submission file in the correct format.\n",
    "\n",
    "* id\n",
    "* winner_model_[a/b/tie] - This is what is predicted from the test set."
   ]
  },
  {
   "cell_type": "markdown",
   "id": "df151b58-57e4-446b-8007-8d8a598c697b",
   "metadata": {},
   "source": [
    "# Data exploration"
   ]
  },
  {
   "cell_type": "code",
   "execution_count": 5,
   "id": "e5ca00b3-0de9-4867-a6b8-a22cd31dcca7",
   "metadata": {},
   "outputs": [],
   "source": [
    "import glob\n",
    "import time\n",
    "import re\n",
    "8import os"
   ]
  },
  {
   "cell_type": "code",
   "execution_count": 4,
   "id": "af43c198-a88a-4e26-9e98-2f4369907ca1",
   "metadata": {},
   "outputs": [],
   "source": [
    "import pandas as pd\n",
    "import numpy as np"
   ]
  },
  {
   "cell_type": "code",
   "execution_count": 13,
   "id": "1e3a7083-77b9-4578-b7b6-8e37a1679774",
   "metadata": {},
   "outputs": [
    {
     "name": "stdout",
     "output_type": "stream",
     "text": [
      "El directorio /Users/evacanogallego/Desktop/Proyectos_ML/LLM_Classification_Finetuning/datos ya existe.\n",
      "El directorio /Users/evacanogallego/Desktop/Proyectos_ML/LLM_Classification_Finetuning/output ya existe.\n",
      "El directorio /Users/evacanogallego/Desktop/Proyectos_ML/LLM_Classification_Finetuning/tmp ya existe.\n"
     ]
    }
   ],
   "source": [
    "path = '/Users/evacanogallego/Desktop/Proyectos_ML/LLM_Classification_Finetuning'\n",
    "path_data = f'{path}/datos'\n",
    "path_output = f'{path}/output'\n",
    "path_tmp = f'{path}/tmp'\n",
    "\n",
    "for p in [path_data, path_output, path_tmp]:\n",
    "    try:\n",
    "        os.mkdir(p)\n",
    "    except FileExistsError:\n",
    "        print(f'El directorio {p} ya existe.')"
   ]
  },
  {
   "cell_type": "code",
   "execution_count": null,
   "id": "9471f081-77b3-4a6b-9664-36192c855606",
   "metadata": {},
   "outputs": [],
   "source": []
  },
  {
   "cell_type": "code",
   "execution_count": null,
   "id": "b415f0a5-8d36-4fa5-9ff2-26c7f1755644",
   "metadata": {},
   "outputs": [],
   "source": []
  },
  {
   "cell_type": "code",
   "execution_count": null,
   "id": "7d9c3363-6b1a-4f78-9f4a-7e7b19253e53",
   "metadata": {},
   "outputs": [],
   "source": []
  },
  {
   "cell_type": "code",
   "execution_count": null,
   "id": "6b5f1d80-ba19-46e1-a4ac-e59e137b9aa0",
   "metadata": {},
   "outputs": [],
   "source": []
  },
  {
   "cell_type": "code",
   "execution_count": null,
   "id": "9c7337b5-63cb-4df4-86b0-ad2844a5610b",
   "metadata": {},
   "outputs": [],
   "source": []
  },
  {
   "cell_type": "code",
   "execution_count": null,
   "id": "0ee392a3-aacf-4c1c-952d-f83b9bbc1e58",
   "metadata": {},
   "outputs": [],
   "source": []
  },
  {
   "cell_type": "code",
   "execution_count": null,
   "id": "3677d592-6380-44cf-b063-061b10a16e5c",
   "metadata": {},
   "outputs": [],
   "source": []
  },
  {
   "cell_type": "code",
   "execution_count": null,
   "id": "08e49803-46b5-48d7-8a28-9968b6aba331",
   "metadata": {},
   "outputs": [],
   "source": []
  },
  {
   "cell_type": "code",
   "execution_count": null,
   "id": "ad0cdfd7-3f3e-4fc7-8f1a-bfdc677e25d3",
   "metadata": {},
   "outputs": [],
   "source": []
  },
  {
   "cell_type": "code",
   "execution_count": null,
   "id": "31f72c43-5ea9-4295-a307-ad8090b35127",
   "metadata": {},
   "outputs": [],
   "source": []
  },
  {
   "cell_type": "code",
   "execution_count": null,
   "id": "e5dca491-39fa-4a5e-995f-da6c135ba82e",
   "metadata": {},
   "outputs": [],
   "source": []
  },
  {
   "cell_type": "code",
   "execution_count": null,
   "id": "e72395ea-47a7-4869-94c8-cf9765e447e1",
   "metadata": {},
   "outputs": [],
   "source": []
  },
  {
   "cell_type": "code",
   "execution_count": null,
   "id": "96daa0ae-5a95-453c-aa7f-84335df5a0ce",
   "metadata": {},
   "outputs": [],
   "source": []
  },
  {
   "cell_type": "code",
   "execution_count": null,
   "id": "fab7a640-fbe8-4f6b-80ac-c577a9072029",
   "metadata": {},
   "outputs": [],
   "source": []
  },
  {
   "cell_type": "code",
   "execution_count": null,
   "id": "1ff5bdc5-d78c-4563-86c1-ca93f915771b",
   "metadata": {},
   "outputs": [],
   "source": []
  },
  {
   "cell_type": "code",
   "execution_count": null,
   "id": "7adc410f-2e57-4d34-bdf9-53d0d09d555f",
   "metadata": {},
   "outputs": [],
   "source": []
  },
  {
   "cell_type": "code",
   "execution_count": null,
   "id": "41c72c03-a9a0-4396-8918-29f1552f06ec",
   "metadata": {},
   "outputs": [],
   "source": []
  }
 ],
 "metadata": {
  "kernelspec": {
   "display_name": "Python 3 (ipykernel)",
   "language": "python",
   "name": "python3"
  },
  "language_info": {
   "codemirror_mode": {
    "name": "ipython",
    "version": 3
   },
   "file_extension": ".py",
   "mimetype": "text/x-python",
   "name": "python",
   "nbconvert_exporter": "python",
   "pygments_lexer": "ipython3",
   "version": "3.12.7"
  }
 },
 "nbformat": 4,
 "nbformat_minor": 5
}
